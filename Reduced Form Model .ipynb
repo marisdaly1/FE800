{
 "cells": [
  {
   "cell_type": "code",
   "execution_count": 77,
   "id": "0ac43175",
   "metadata": {},
   "outputs": [],
   "source": [
    "import pickle\n",
    "import pandas as pd\n",
    "import numpy as np\n",
    "from datetime import datetime\n",
    "from sklearn.metrics import mean_squared_error, mean_absolute_error, r2_score\n",
    "import matplotlib.pyplot as plt"
   ]
  },
  {
   "cell_type": "code",
   "execution_count": 5,
   "id": "0fe8f7cc",
   "metadata": {},
   "outputs": [],
   "source": [
    "pd.options.display.max_columns = None\n",
    "pd.options.display.max_rows = None"
   ]
  },
  {
   "cell_type": "code",
   "execution_count": 46,
   "id": "0913249f",
   "metadata": {},
   "outputs": [],
   "source": [
    "Bond_data = pd.read_pickle(\"reduced_data.pkl\")"
   ]
  },
  {
   "cell_type": "code",
   "execution_count": 47,
   "id": "8550293b",
   "metadata": {},
   "outputs": [
    {
     "data": {
      "text/html": [
       "<div>\n",
       "<style scoped>\n",
       "    .dataframe tbody tr th:only-of-type {\n",
       "        vertical-align: middle;\n",
       "    }\n",
       "\n",
       "    .dataframe tbody tr th {\n",
       "        vertical-align: top;\n",
       "    }\n",
       "\n",
       "    .dataframe thead th {\n",
       "        text-align: right;\n",
       "    }\n",
       "</style>\n",
       "<table border=\"1\" class=\"dataframe\">\n",
       "  <thead>\n",
       "    <tr style=\"text-align: right;\">\n",
       "      <th></th>\n",
       "      <th></th>\n",
       "      <th>Price</th>\n",
       "      <th>Volume</th>\n",
       "      <th>Trades</th>\n",
       "      <th>Return</th>\n",
       "      <th>Age</th>\n",
       "      <th>TTM</th>\n",
       "      <th>Stock_Return</th>\n",
       "      <th>Stock_Volume</th>\n",
       "      <th>ETF_Return</th>\n",
       "      <th>PV</th>\n",
       "      <th>YTM</th>\n",
       "      <th>Duration</th>\n",
       "      <th>DV01</th>\n",
       "      <th>Convexity</th>\n",
       "      <th>RunningCoupon</th>\n",
       "      <th>ParSpread</th>\n",
       "      <th>CDSRealRecovery</th>\n",
       "      <th>UpfrontBASpreadAverage</th>\n",
       "      <th>ConvBASpreadAverage</th>\n",
       "      <th>EstimatedNotional</th>\n",
       "      <th>WklyNetNotional</th>\n",
       "      <th>DP</th>\n",
       "      <th>AA</th>\n",
       "      <th>A</th>\n",
       "      <th>BBB</th>\n",
       "      <th>BB</th>\n",
       "      <th>B</th>\n",
       "      <th>CCC</th>\n",
       "    </tr>\n",
       "    <tr>\n",
       "      <th>cusip</th>\n",
       "      <th>trd_dt</th>\n",
       "      <th></th>\n",
       "      <th></th>\n",
       "      <th></th>\n",
       "      <th></th>\n",
       "      <th></th>\n",
       "      <th></th>\n",
       "      <th></th>\n",
       "      <th></th>\n",
       "      <th></th>\n",
       "      <th></th>\n",
       "      <th></th>\n",
       "      <th></th>\n",
       "      <th></th>\n",
       "      <th></th>\n",
       "      <th></th>\n",
       "      <th></th>\n",
       "      <th></th>\n",
       "      <th></th>\n",
       "      <th></th>\n",
       "      <th></th>\n",
       "      <th></th>\n",
       "      <th></th>\n",
       "      <th></th>\n",
       "      <th></th>\n",
       "      <th></th>\n",
       "      <th></th>\n",
       "      <th></th>\n",
       "      <th></th>\n",
       "    </tr>\n",
       "  </thead>\n",
       "  <tbody>\n",
       "    <tr>\n",
       "      <th rowspan=\"5\" valign=\"top\">00817YAF5</th>\n",
       "      <th>2020-02-11</th>\n",
       "      <td>138.594</td>\n",
       "      <td>NaN</td>\n",
       "      <td>NaN</td>\n",
       "      <td>NaN</td>\n",
       "      <td>13.684932</td>\n",
       "      <td>16.353425</td>\n",
       "      <td>0.008191</td>\n",
       "      <td>0.047574</td>\n",
       "      <td>0.003547</td>\n",
       "      <td>-0.003413</td>\n",
       "      <td>0.036039</td>\n",
       "      <td>11.719471</td>\n",
       "      <td>-1.624248</td>\n",
       "      <td>167.125039</td>\n",
       "      <td>0.05</td>\n",
       "      <td>0.000729</td>\n",
       "      <td>0.4</td>\n",
       "      <td>0.008798</td>\n",
       "      <td>0.00109</td>\n",
       "      <td>5000000.0</td>\n",
       "      <td>222648000.0</td>\n",
       "      <td>0.06139</td>\n",
       "      <td>1.0</td>\n",
       "      <td>0.0</td>\n",
       "      <td>0.0</td>\n",
       "      <td>0.0</td>\n",
       "      <td>0.0</td>\n",
       "      <td>0.0</td>\n",
       "    </tr>\n",
       "    <tr>\n",
       "      <th>2020-02-13</th>\n",
       "      <td>140.000</td>\n",
       "      <td>-0.358946</td>\n",
       "      <td>5.0</td>\n",
       "      <td>0.018426</td>\n",
       "      <td>13.690411</td>\n",
       "      <td>16.347945</td>\n",
       "      <td>-0.023729</td>\n",
       "      <td>0.202542</td>\n",
       "      <td>-0.000321</td>\n",
       "      <td>0.001198</td>\n",
       "      <td>0.035118</td>\n",
       "      <td>11.708106</td>\n",
       "      <td>-1.639135</td>\n",
       "      <td>166.882174</td>\n",
       "      <td>0.05</td>\n",
       "      <td>0.000756</td>\n",
       "      <td>0.4</td>\n",
       "      <td>0.009437</td>\n",
       "      <td>0.001173</td>\n",
       "      <td>5000000.0</td>\n",
       "      <td>222648000.0</td>\n",
       "      <td>0.061101</td>\n",
       "      <td>1.0</td>\n",
       "      <td>0.0</td>\n",
       "      <td>0.0</td>\n",
       "      <td>0.0</td>\n",
       "      <td>0.0</td>\n",
       "      <td>0.0</td>\n",
       "    </tr>\n",
       "    <tr>\n",
       "      <th>2020-02-19</th>\n",
       "      <td>138.763</td>\n",
       "      <td>-0.430609</td>\n",
       "      <td>2.0</td>\n",
       "      <td>0.006141</td>\n",
       "      <td>13.706849</td>\n",
       "      <td>16.331507</td>\n",
       "      <td>-0.003056</td>\n",
       "      <td>-0.727394</td>\n",
       "      <td>0.007443</td>\n",
       "      <td>-0.001111</td>\n",
       "      <td>0.035998</td>\n",
       "      <td>11.706361</td>\n",
       "      <td>-1.624410</td>\n",
       "      <td>166.782794</td>\n",
       "      <td>0.05</td>\n",
       "      <td>0.000721</td>\n",
       "      <td>0.4</td>\n",
       "      <td>0.009635</td>\n",
       "      <td>0.001197</td>\n",
       "      <td>5000000.0</td>\n",
       "      <td>222648000.0</td>\n",
       "      <td>0.059885</td>\n",
       "      <td>1.0</td>\n",
       "      <td>0.0</td>\n",
       "      <td>0.0</td>\n",
       "      <td>0.0</td>\n",
       "      <td>0.0</td>\n",
       "      <td>0.0</td>\n",
       "    </tr>\n",
       "    <tr>\n",
       "      <th>2020-02-21</th>\n",
       "      <td>139.740</td>\n",
       "      <td>-0.457193</td>\n",
       "      <td>2.0</td>\n",
       "      <td>0.013541</td>\n",
       "      <td>13.712329</td>\n",
       "      <td>16.326027</td>\n",
       "      <td>-0.005977</td>\n",
       "      <td>-0.638805</td>\n",
       "      <td>-0.009656</td>\n",
       "      <td>0.006996</td>\n",
       "      <td>0.035361</td>\n",
       "      <td>11.730104</td>\n",
       "      <td>-1.639165</td>\n",
       "      <td>167.221531</td>\n",
       "      <td>0.05</td>\n",
       "      <td>0.000739</td>\n",
       "      <td>0.4</td>\n",
       "      <td>0.009693</td>\n",
       "      <td>0.001204</td>\n",
       "      <td>5000000.0</td>\n",
       "      <td>222648000.0</td>\n",
       "      <td>0.060222</td>\n",
       "      <td>1.0</td>\n",
       "      <td>0.0</td>\n",
       "      <td>0.0</td>\n",
       "      <td>0.0</td>\n",
       "      <td>0.0</td>\n",
       "      <td>0.0</td>\n",
       "    </tr>\n",
       "    <tr>\n",
       "      <th>2020-02-25</th>\n",
       "      <td>138.656</td>\n",
       "      <td>-0.456037</td>\n",
       "      <td>2.0</td>\n",
       "      <td>0.008965</td>\n",
       "      <td>13.723288</td>\n",
       "      <td>16.315068</td>\n",
       "      <td>-0.052856</td>\n",
       "      <td>1.828526</td>\n",
       "      <td>-0.033927</td>\n",
       "      <td>0.005850</td>\n",
       "      <td>0.036124</td>\n",
       "      <td>11.757090</td>\n",
       "      <td>-1.630191</td>\n",
       "      <td>167.700891</td>\n",
       "      <td>0.05</td>\n",
       "      <td>0.000829</td>\n",
       "      <td>0.4</td>\n",
       "      <td>0.01154</td>\n",
       "      <td>0.001435</td>\n",
       "      <td>5000000.0</td>\n",
       "      <td>222648000.0</td>\n",
       "      <td>0.065503</td>\n",
       "      <td>1.0</td>\n",
       "      <td>0.0</td>\n",
       "      <td>0.0</td>\n",
       "      <td>0.0</td>\n",
       "      <td>0.0</td>\n",
       "      <td>0.0</td>\n",
       "    </tr>\n",
       "  </tbody>\n",
       "</table>\n",
       "</div>"
      ],
      "text/plain": [
       "                        Price    Volume  Trades    Return        Age  \\\n",
       "cusip     trd_dt                                                       \n",
       "00817YAF5 2020-02-11  138.594       NaN     NaN       NaN  13.684932   \n",
       "          2020-02-13  140.000 -0.358946     5.0  0.018426  13.690411   \n",
       "          2020-02-19  138.763 -0.430609     2.0  0.006141  13.706849   \n",
       "          2020-02-21  139.740 -0.457193     2.0  0.013541  13.712329   \n",
       "          2020-02-25  138.656 -0.456037     2.0  0.008965  13.723288   \n",
       "\n",
       "                            TTM  Stock_Return  Stock_Volume  ETF_Return  \\\n",
       "cusip     trd_dt                                                          \n",
       "00817YAF5 2020-02-11  16.353425      0.008191      0.047574    0.003547   \n",
       "          2020-02-13  16.347945     -0.023729      0.202542   -0.000321   \n",
       "          2020-02-19  16.331507     -0.003056     -0.727394    0.007443   \n",
       "          2020-02-21  16.326027     -0.005977     -0.638805   -0.009656   \n",
       "          2020-02-25  16.315068     -0.052856      1.828526   -0.033927   \n",
       "\n",
       "                            PV       YTM   Duration      DV01   Convexity  \\\n",
       "cusip     trd_dt                                                            \n",
       "00817YAF5 2020-02-11 -0.003413  0.036039  11.719471 -1.624248  167.125039   \n",
       "          2020-02-13  0.001198  0.035118  11.708106 -1.639135  166.882174   \n",
       "          2020-02-19 -0.001111  0.035998  11.706361 -1.624410  166.782794   \n",
       "          2020-02-21  0.006996  0.035361  11.730104 -1.639165  167.221531   \n",
       "          2020-02-25  0.005850  0.036124  11.757090 -1.630191  167.700891   \n",
       "\n",
       "                     RunningCoupon ParSpread CDSRealRecovery  \\\n",
       "cusip     trd_dt                                               \n",
       "00817YAF5 2020-02-11          0.05  0.000729             0.4   \n",
       "          2020-02-13          0.05  0.000756             0.4   \n",
       "          2020-02-19          0.05  0.000721             0.4   \n",
       "          2020-02-21          0.05  0.000739             0.4   \n",
       "          2020-02-25          0.05  0.000829             0.4   \n",
       "\n",
       "                     UpfrontBASpreadAverage ConvBASpreadAverage  \\\n",
       "cusip     trd_dt                                                  \n",
       "00817YAF5 2020-02-11               0.008798             0.00109   \n",
       "          2020-02-13               0.009437            0.001173   \n",
       "          2020-02-19               0.009635            0.001197   \n",
       "          2020-02-21               0.009693            0.001204   \n",
       "          2020-02-25                0.01154            0.001435   \n",
       "\n",
       "                     EstimatedNotional WklyNetNotional        DP   AA    A  \\\n",
       "cusip     trd_dt                                                             \n",
       "00817YAF5 2020-02-11         5000000.0     222648000.0   0.06139  1.0  0.0   \n",
       "          2020-02-13         5000000.0     222648000.0  0.061101  1.0  0.0   \n",
       "          2020-02-19         5000000.0     222648000.0  0.059885  1.0  0.0   \n",
       "          2020-02-21         5000000.0     222648000.0  0.060222  1.0  0.0   \n",
       "          2020-02-25         5000000.0     222648000.0  0.065503  1.0  0.0   \n",
       "\n",
       "                      BBB   BB    B  CCC  \n",
       "cusip     trd_dt                          \n",
       "00817YAF5 2020-02-11  0.0  0.0  0.0  0.0  \n",
       "          2020-02-13  0.0  0.0  0.0  0.0  \n",
       "          2020-02-19  0.0  0.0  0.0  0.0  \n",
       "          2020-02-21  0.0  0.0  0.0  0.0  \n",
       "          2020-02-25  0.0  0.0  0.0  0.0  "
      ]
     },
     "execution_count": 47,
     "metadata": {},
     "output_type": "execute_result"
    }
   ],
   "source": [
    "Bond_data.head()"
   ]
  },
  {
   "cell_type": "code",
   "execution_count": 48,
   "id": "23cb62d7",
   "metadata": {},
   "outputs": [
    {
     "data": {
      "text/plain": [
       "18258"
      ]
     },
     "execution_count": 48,
     "metadata": {},
     "output_type": "execute_result"
    }
   ],
   "source": [
    "len(Bond_data.index.get_level_values(0))"
   ]
  },
  {
   "cell_type": "code",
   "execution_count": 49,
   "id": "e55abe4a",
   "metadata": {},
   "outputs": [
    {
     "data": {
      "text/plain": [
       "18258"
      ]
     },
     "execution_count": 49,
     "metadata": {},
     "output_type": "execute_result"
    }
   ],
   "source": [
    "unique_cusips = Bond_data.index.unique()\n",
    "unique_cusip_count = unique_cusips.nunique()\n",
    "unique_cusip_count"
   ]
  },
  {
   "cell_type": "code",
   "execution_count": 50,
   "id": "71c0d6d6",
   "metadata": {},
   "outputs": [
    {
     "data": {
      "text/plain": [
       "Index(['Price', 'Volume', 'Trades', 'Return', 'Age', 'TTM', 'Stock_Return',\n",
       "       'Stock_Volume', 'ETF_Return', 'PV', 'YTM', 'Duration', 'DV01',\n",
       "       'Convexity', 'RunningCoupon', 'ParSpread', 'CDSRealRecovery',\n",
       "       'UpfrontBASpreadAverage', 'ConvBASpreadAverage', 'EstimatedNotional',\n",
       "       'WklyNetNotional', 'DP', 'AA', 'A', 'BBB', 'BB', 'B', 'CCC'],\n",
       "      dtype='object')"
      ]
     },
     "execution_count": 50,
     "metadata": {},
     "output_type": "execute_result"
    }
   ],
   "source": [
    "Bond_data.columns"
   ]
  },
  {
   "cell_type": "code",
   "execution_count": 51,
   "id": "61ea4198",
   "metadata": {},
   "outputs": [],
   "source": [
    "def find_first_rating(row):\n",
    "    rating_order = ['AA', 'A', 'BBB', 'BB', 'B', 'CCC']\n",
    "    for rating in rating_order:\n",
    "        if row[rating] == 1.0:\n",
    "            return rating\n",
    "    return None\n",
    "\n",
    "Bond_data['Rating'] = Bond_data.apply(find_first_rating, axis=1)\n",
    "\n",
    "grouped_ratings = Bond_data.groupby(Bond_data.index)['Rating'].first()"
   ]
  },
  {
   "cell_type": "code",
   "execution_count": 52,
   "id": "c7efe327",
   "metadata": {},
   "outputs": [
    {
     "data": {
      "text/plain": [
       "A      44.006387\n",
       "BBB    40.796212\n",
       "AA     13.528991\n",
       "BB      1.662904\n",
       "B       0.005506\n",
       "Name: Rating, dtype: float64"
      ]
     },
     "execution_count": 52,
     "metadata": {},
     "output_type": "execute_result"
    }
   ],
   "source": [
    "rating_percentage = grouped_ratings.value_counts(normalize=True) * 100\n",
    "rating_percentage"
   ]
  },
  {
   "cell_type": "code",
   "execution_count": 53,
   "id": "59c41e39",
   "metadata": {},
   "outputs": [
    {
     "data": {
      "text/plain": [
       "A      7992\n",
       "BBB    7409\n",
       "AA     2457\n",
       "BB      302\n",
       "B         1\n",
       "Name: Rating, dtype: int64"
      ]
     },
     "execution_count": 53,
     "metadata": {},
     "output_type": "execute_result"
    }
   ],
   "source": [
    "total_numbers = grouped_ratings.value_counts()\n",
    "total_numbers"
   ]
  },
  {
   "cell_type": "code",
   "execution_count": 54,
   "id": "584aad50",
   "metadata": {},
   "outputs": [],
   "source": [
    "def bond_price(coupon_rate, ytm, Years_Until_Maturity, risk_free_rate, AA,A,BBB,BB,B,CCC, face_value):\n",
    "    if ytm <= risk_free_rate:\n",
    "        return \"Error: YTM must be greater than the risk-free rate.\"\n",
    "    \n",
    "    coupon_rate = 0 if coupon_rate is None else coupon_rate\n",
    "    \n",
    "    recovery_rate = 0.4208*AA + 0.3688*A + 0.329*BBB + 0.3451*BB + 0.3451*B + 0.3451*CCC\n",
    "    \n",
    "    default_probability = (ytm - risk_free_rate) /(1 - recovery_rate)  # placeholder here, may adjust how we calculate PD\n",
    "\n",
    "    if default_probability < 0 or default_probability > 1:\n",
    "        return \"Error: Default probability out of bounds (0-1).\"\n",
    "    \n",
    "    cash_flow_no_default = 0\n",
    "    times = np.arange(0.5, Years_Until_Maturity, 0.5)\n",
    "    semiannual_coupon_payment = face_value * (coupon_rate/ 2)\n",
    "    cashflows = np.full(len(times), semiannual_coupon_payment)\n",
    "    cashflows[-1] += face_value \n",
    "    for i in range(len(times)):\n",
    "        cash_flow_no_default += cashflows[i] / np.power((1 + ytm/2), times[i])\n",
    "        \n",
    "    cash_flow_default = recovery_rate * face_value \n",
    "\n",
    "    # Calculating expected cash flow\n",
    "    expected_cash_flow = ((1 - default_probability) * cash_flow_no_default) + (default_probability * cash_flow_default)\n",
    "\n",
    "    # Discounting to present value\n",
    "    return expected_cash_flow\n"
   ]
  },
  {
   "cell_type": "code",
   "execution_count": 55,
   "id": "8e0460d2",
   "metadata": {},
   "outputs": [],
   "source": [
    "def dcf(coupon_rate, ytm, Years_Until_Maturity, face_value):\n",
    "    \n",
    "    # Check if YTM is non-negative\n",
    "    if ytm < 0:\n",
    "        return \"Error: YTM must be non-negative.\"\n",
    "    \n",
    "    coupon_rate = 0 if coupon_rate is None else coupon_rate\n",
    "\n",
    "    cash_flow_total = 0\n",
    "    times = np.arange(0.5, Years_Until_Maturity + 0.5, 0.5)  # Assuming semiannual coupons\n",
    "    semiannual_coupon_payment = face_value * (coupon_rate/2)\n",
    "    \n",
    "    # Discount each cash flow back to the present value\n",
    "    for time in times[:-1]:\n",
    "        cash_flow_total += semiannual_coupon_payment / np.power((1 + ytm / 2), time)\n",
    "    \n",
    "    # Add the face value (discounted) for the last payment\n",
    "    cash_flow_total += (face_value + semiannual_coupon_payment) / np.power((1 + ytm / 2), times[-1])\n",
    "\n",
    "    return cash_flow_total"
   ]
  },
  {
   "cell_type": "code",
   "execution_count": 56,
   "id": "dce41903",
   "metadata": {},
   "outputs": [],
   "source": [
    "Bond_data['Calculated_Bond_Price_Rating'] = Bond_data.apply(\n",
    "    lambda row: bond_price(\n",
    "        row['RunningCoupon'], row['YTM'], row['TTM'], \n",
    "        risk_free_rate=0.02, \n",
    "        AA=row['AA'] if row['AA'] is not None else 0, \n",
    "        A=row['A'] if row['A'] is not None else 0, \n",
    "        BBB=row['BBB'] if row['BBB'] is not None else 0,\n",
    "        BB=row['BB'] if row['BB'] is not None else 0,\n",
    "        B=row['B'] if row['B'] is not None else 0,\n",
    "        CCC=row['CCC'] if row['CCC'] is not None else 0,\n",
    "        face_value=100\n",
    "    ), axis=1)"
   ]
  },
  {
   "cell_type": "code",
   "execution_count": 57,
   "id": "586a3e96",
   "metadata": {},
   "outputs": [],
   "source": [
    "Bond_data['dcf_price'] = Bond_data.apply(\n",
    "    lambda row: dcf(\n",
    "        row['RunningCoupon'], row['YTM'], row['TTM'], face_value=100\n",
    "    ), axis=1)"
   ]
  },
  {
   "cell_type": "code",
   "execution_count": 58,
   "id": "ff5ed38d",
   "metadata": {},
   "outputs": [],
   "source": [
    "Bond_data1 = Bond_data"
   ]
  },
  {
   "cell_type": "code",
   "execution_count": 59,
   "id": "331c032b",
   "metadata": {},
   "outputs": [
    {
     "name": "stdout",
     "output_type": "stream",
     "text": [
      "Empty DataFrame\n",
      "Columns: [Price, Volume, Trades, Return, Age, TTM, Stock_Return, Stock_Volume, ETF_Return, PV, YTM, Duration, DV01, Convexity, RunningCoupon, ParSpread, CDSRealRecovery, UpfrontBASpreadAverage, ConvBASpreadAverage, EstimatedNotional, WklyNetNotional, DP, AA, A, BBB, BB, B, CCC, Rating, Calculated_Bond_Price_Rating, dcf_price]\n",
      "Index: []\n"
     ]
    }
   ],
   "source": [
    "numeric_columns = Bond_data1.select_dtypes(include=[np.number])\n",
    "inf_mask = np.isinf(numeric_columns).any(axis=1)\n",
    "rows_with_infinity = Bond_data1[inf_mask]\n",
    "\n",
    "print(rows_with_infinity)"
   ]
  },
  {
   "cell_type": "code",
   "execution_count": 60,
   "id": "72472134",
   "metadata": {},
   "outputs": [
    {
     "name": "stdout",
     "output_type": "stream",
     "text": [
      "MSE: 3.100243972328572\n",
      "RMSE: 1.7607509682884097\n",
      "MAE: 1.5365404061417147\n"
     ]
    }
   ],
   "source": [
    "Bond_data2 = Bond_data1.dropna(subset=['Price', 'Calculated_Bond_Price_Rating'])\n",
    "Bond_data2 = Bond_data2[Bond_data2['Calculated_Bond_Price_Rating'] != 'Error: YTM must be greater than the risk-free rate.']\n",
    "Bond_data2 = Bond_data2[Bond_data2['Calculated_Bond_Price_Rating'] != 'Error: Default probability out of bounds (0-1).']\n",
    "\n",
    "mse = mean_squared_error(Bond_data2[\"Price\"], Bond_data2[\"Calculated_Bond_Price_Rating\"])\n",
    "rmse = mean_squared_error(Bond_data2[\"Price\"], Bond_data2[\"Calculated_Bond_Price_Rating\"], squared=False)\n",
    "mae = mean_absolute_error(Bond_data2[\"Price\"], Bond_data2[\"Calculated_Bond_Price_Rating\"])\n",
    "\n",
    "print(\"MSE:\", mse)\n",
    "print(\"RMSE:\", rmse)\n",
    "print(\"MAE:\", mae)\n"
   ]
  },
  {
   "cell_type": "code",
   "execution_count": 63,
   "id": "38bf8a46",
   "metadata": {},
   "outputs": [
    {
     "data": {
      "text/plain": [
       "(15538, 31)"
      ]
     },
     "execution_count": 63,
     "metadata": {},
     "output_type": "execute_result"
    }
   ],
   "source": [
    "rows_with_large_diff = Bond_data2[abs(Bond_data2['Calculated_Bond_Price_Rating'] - Bond_data2['Price']) > 0.5]\n",
    "rows_with_large_diff.shape"
   ]
  },
  {
   "cell_type": "code",
   "execution_count": 66,
   "id": "7728e48e",
   "metadata": {},
   "outputs": [
    {
     "name": "stdout",
     "output_type": "stream",
     "text": [
      "MSE: 22.868477186890214\n",
      "RMSE: 4.782099663002667\n",
      "MAE: 4.313582513003797\n"
     ]
    }
   ],
   "source": [
    "mse = mean_squared_error(rows_with_large_diff[\"Price\"], rows_with_large_diff[\"dcf_price\"])\n",
    "rmse = mean_squared_error(rows_with_large_diff[\"Price\"], rows_with_large_diff[\"dcf_price\"], squared=False)\n",
    "mae = mean_absolute_error(rows_with_large_diff[\"Price\"], rows_with_large_diff[\"dcf_price\"])\n",
    "\n",
    "print(\"MSE:\", mse)\n",
    "print(\"RMSE:\", rmse)\n",
    "print(\"MAE:\", mae)"
   ]
  },
  {
   "cell_type": "code",
   "execution_count": 71,
   "id": "799266bc",
   "metadata": {},
   "outputs": [],
   "source": [
    "cusip_set = Bond_data2[['Price','Calculated_Bond_Price_Rating', 'dcf_price']]"
   ]
  },
  {
   "cell_type": "code",
   "execution_count": 72,
   "id": "77839efa",
   "metadata": {},
   "outputs": [],
   "source": [
    "cusip_set = final_set.rename(columns={\n",
    "    'Price': 'market_price',\n",
    "    'Calculated_Bond_Price_Rating': 'reduced_form_price',\n",
    "    'dcf_price': 'dcf_price'\n",
    "})"
   ]
  },
  {
   "cell_type": "code",
   "execution_count": 75,
   "id": "3e474519",
   "metadata": {},
   "outputs": [
    {
     "data": {
      "text/html": [
       "<div>\n",
       "<style scoped>\n",
       "    .dataframe tbody tr th:only-of-type {\n",
       "        vertical-align: middle;\n",
       "    }\n",
       "\n",
       "    .dataframe tbody tr th {\n",
       "        vertical-align: top;\n",
       "    }\n",
       "\n",
       "    .dataframe thead th {\n",
       "        text-align: right;\n",
       "    }\n",
       "</style>\n",
       "<table border=\"1\" class=\"dataframe\">\n",
       "  <thead>\n",
       "    <tr style=\"text-align: right;\">\n",
       "      <th></th>\n",
       "      <th></th>\n",
       "      <th>market_price</th>\n",
       "      <th>reduced_form_price</th>\n",
       "      <th>dcf_price</th>\n",
       "    </tr>\n",
       "    <tr>\n",
       "      <th>cusip</th>\n",
       "      <th>trd_dt</th>\n",
       "      <th></th>\n",
       "      <th></th>\n",
       "      <th></th>\n",
       "    </tr>\n",
       "  </thead>\n",
       "  <tbody>\n",
       "    <tr>\n",
       "      <th rowspan=\"5\" valign=\"top\">00817YAF5</th>\n",
       "      <th>2020-02-11</th>\n",
       "      <td>138.594</td>\n",
       "      <td>141.586190</td>\n",
       "      <td>145.614119</td>\n",
       "    </tr>\n",
       "    <tr>\n",
       "      <th>2020-02-13</th>\n",
       "      <td>140.000</td>\n",
       "      <td>142.522187</td>\n",
       "      <td>146.434066</td>\n",
       "    </tr>\n",
       "    <tr>\n",
       "      <th>2020-02-19</th>\n",
       "      <td>138.763</td>\n",
       "      <td>141.628041</td>\n",
       "      <td>145.650804</td>\n",
       "    </tr>\n",
       "    <tr>\n",
       "      <th>2020-02-21</th>\n",
       "      <td>139.740</td>\n",
       "      <td>142.273990</td>\n",
       "      <td>146.216747</td>\n",
       "    </tr>\n",
       "    <tr>\n",
       "      <th>2020-02-25</th>\n",
       "      <td>138.656</td>\n",
       "      <td>141.500167</td>\n",
       "      <td>145.538708</td>\n",
       "    </tr>\n",
       "  </tbody>\n",
       "</table>\n",
       "</div>"
      ],
      "text/plain": [
       "                      market_price  reduced_form_price   dcf_price\n",
       "cusip     trd_dt                                                  \n",
       "00817YAF5 2020-02-11       138.594          141.586190  145.614119\n",
       "          2020-02-13       140.000          142.522187  146.434066\n",
       "          2020-02-19       138.763          141.628041  145.650804\n",
       "          2020-02-21       139.740          142.273990  146.216747\n",
       "          2020-02-25       138.656          141.500167  145.538708"
      ]
     },
     "execution_count": 75,
     "metadata": {},
     "output_type": "execute_result"
    }
   ],
   "source": [
    "cusip_set.head()"
   ]
  },
  {
   "cell_type": "code",
   "execution_count": 74,
   "id": "9dbd86d1",
   "metadata": {},
   "outputs": [
    {
     "data": {
      "text/plain": [
       "('00817YAF5', Timestamp('2020-02-11 00:00:00'))"
      ]
     },
     "execution_count": 74,
     "metadata": {},
     "output_type": "execute_result"
    }
   ],
   "source": [
    "index_with_most_rows = cusip_set.index.value_counts().idxmax()\n",
    "index_with_most_rows"
   ]
  },
  {
   "cell_type": "code",
   "execution_count": 76,
   "id": "845f25fd",
   "metadata": {},
   "outputs": [
    {
     "data": {
      "text/plain": [
       "True"
      ]
     },
     "execution_count": 76,
     "metadata": {},
     "output_type": "execute_result"
    }
   ],
   "source": [
    "index_exists = '00817YAF5' in cusip_set.index\n",
    "index_exists"
   ]
  },
  {
   "cell_type": "code",
   "execution_count": 83,
   "id": "b92db422",
   "metadata": {},
   "outputs": [
    {
     "data": {
      "image/png": "[encoded data removed]",
      "text/plain": [
       "<Figure size 720x360 with 1 Axes>"
      ]
     },
     "metadata": {
      "needs_background": "light"
     },
     "output_type": "display_data"
    }
   ],
   "source": [
    "cusip_set = cusip_set.reset_index()\n",
    "cusip_set['trd_dt'] = pd.to_datetime(cusip_set['trd_dt'])\n",
    "cusip_set = cusip_set.set_index(['cusip', 'trd_dt'])\n",
    "plt.figure(figsize=(10, 5))\n",
    "\n",
    "plt.plot(cusip_set.loc['00817YAF5'].index.get_level_values('trd_dt'), cusip_set.loc['00817YAF5']['market_price'], label='Market Price', marker='o')\n",
    "plt.plot(cusip_set.loc['00817YAF5'].index.get_level_values('trd_dt'), cusip_set.loc['00817YAF5']['reduced_form_price'], label='Reduced Form Price', marker='s')\n",
    "plt.plot(cusip_set.loc['00817YAF5'].index.get_level_values('trd_dt'), cusip_set.loc['00817YAF5']['dcf_price'], label='DCF Price', marker='^')\n",
    "\n",
    "plt.title('Time Series of Prices for CUSIP 00817YAF5')\n",
    "plt.xlabel('Trade Date (trd_dt)')\n",
    "plt.ylabel('Price')\n",
    "plt.legend()\n",
    "plt.gcf().autofmt_xdate()\n",
    "plt.show()"
   ]
  },
  {
   "cell_type": "code",
   "execution_count": null,
   "id": "ff18bcb9",
   "metadata": {},
   "outputs": [],
   "source": []
  }
 ],
 "metadata": {
  "kernelspec": {
   "display_name": "Python 3 (ipykernel)",
   "language": "python",
   "name": "python3"
  },
  "language_info": {
   "codemirror_mode": {
    "name": "ipython",
    "version": 3
   },
   "file_extension": ".py",
   "mimetype": "text/x-python",
   "name": "python",
   "nbconvert_exporter": "python",
   "pygments_lexer": "ipython3",
   "version": "3.9.12"
  }
 },
 "nbformat": 4,
 "nbformat_minor": 5
}
